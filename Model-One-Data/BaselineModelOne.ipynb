{
  "nbformat": 4,
  "nbformat_minor": 0,
  "metadata": {
    "colab": {
      "name": "BaselineModelOne.ipynb",
      "provenance": []
    },
    "kernelspec": {
      "name": "python3",
      "display_name": "Python 3"
    },
    "language_info": {
      "name": "python"
    }
  },
  "cells": [
    {
      "cell_type": "code",
      "metadata": {
        "id": "e62pGcB-m8kC"
      },
      "source": [
        "import torch\n",
        "import numpy as np\n",
        "\n",
        "import torch.nn as nn\n",
        "import torch.nn.functional as F\n",
        "import matplotlib.pyplot as plt\n",
        "import torch.optim as optim\n",
        "import torchvision\n",
        "import torchvision.transforms as transforms\n",
        "from torch.utils.data.sampler import SubsetRandomSampler\n",
        "!unzip '/content/Data.zip'\n",
        "!unzip '/content/img.zip'"
      ],
      "execution_count": null,
      "outputs": []
    },
    {
      "cell_type": "code",
      "metadata": {
        "id": "r0P1X3GqrZ_D"
      },
      "source": [
        "def get_relevant_indices(dataset, classes, target_classes):\n",
        "    indices = []\n",
        "    for i in range(len(dataset)):\n",
        "        # Check if the label is in the target classes\n",
        "        label_index = dataset[i][1] # ex: 3\n",
        "        label_class = classes[label_index] # ex: 'cat'\n",
        "        if label_class in target_classes:\n",
        "            indices.append(i)\n",
        "    return indices"
      ],
      "execution_count": 28,
      "outputs": []
    },
    {
      "cell_type": "code",
      "metadata": {
        "id": "WkyBXY812q5b",
        "colab": {
          "base_uri": "https://localhost:8080/"
        },
        "outputId": "82b9a33d-3654-4d31-f086-044f28a4472b"
      },
      "source": [
        "#path to data folders on Google Drive\n",
        "main_path = '/content/'\n",
        "transform = transforms.Compose([transforms.Resize((224)),\n",
        "                                transforms.Grayscale(),\n",
        "                                transforms.ToTensor()])\n",
        "\n",
        "#Target: 60% train, 20% validation, 20% test samples\n",
        "data_folder = torchvision.datasets.ImageFolder(main_path + 'Data', transform = transform)\n",
        "classes = ['Correct', 'Incorrect']\n",
        "relevant_indices = get_relevant_indices(data_folder, classes, classes)\n",
        "np.random.seed(1000)\n",
        "np.random.shuffle(relevant_indices)\n",
        "split1 = int(len(relevant_indices)* 0.2) # 20% test set\n",
        "split2 = int(len(relevant_indices)* 0.4) # 20% validation set, remaining 60% is training set\n",
        "test_ind, val_ind, train_ind = relevant_indices[:split1], relevant_indices[split1:split2], relevant_indices[split2:]\n",
        "\n",
        "test_sampler = SubsetRandomSampler(test_ind)\n",
        "test_loader = torch.utils.data.DataLoader(data_folder, batch_size=40,\n",
        "                                               num_workers=1, sampler=test_sampler)\n",
        "val_sampler = SubsetRandomSampler(val_ind)\n",
        "val_loader = torch.utils.data.DataLoader(data_folder, batch_size=40,\n",
        "                                               num_workers=1, sampler=val_sampler)\n",
        "train_sampler = SubsetRandomSampler(train_ind)\n",
        "train_loader = torch.utils.data.DataLoader(data_folder, batch_size=40,\n",
        "                                               num_workers=1, sampler=train_sampler)\n",
        "print(len(test_ind), len(val_ind), len(train_ind))\n"
      ],
      "execution_count": 33,
      "outputs": [
        {
          "output_type": "stream",
          "text": [
            "378 378 1136\n"
          ],
          "name": "stdout"
        }
      ]
    },
    {
      "cell_type": "code",
      "metadata": {
        "id": "PsNkKXHP80Mp"
      },
      "source": [
        "torch.manual_seed(10) # set the random seed\n",
        "from math import floor\n",
        "\n",
        "class CNNClassifier(nn.Module):\n",
        "    def __init__(self, kernel_sizes = [10, 5, 3], name = \"CNN_Classifier\"):\n",
        "        super(CNNClassifier, self).__init__()\n",
        "        self.conv1 = nn.Conv2d(1, 5, kernel_sizes[0])\n",
        "        self.conv2 = nn.Conv2d(5, 10, kernel_sizes[1])\n",
        "        self.conv3 = nn.Conv2d(10, 25, kernel_sizes[2])\n",
        "\n",
        "        self.pool = nn.MaxPool2d(2, 2)\n",
        "\n",
        "        # Computing the correct input size into the Fully Connected Layer\n",
        "        self.x = floor((224 - kernel_sizes[0] + 1)/2)\n",
        "        self.y = floor((self.x - kernel_sizes[1] + 1)/2)\n",
        "        self.z = floor((self.y - kernel_sizes[2] + 1)/2)\n",
        "        self.FC_input = 25*self.z*self.z\n",
        "\n",
        "        self.fc1 = nn.Linear(self.FC_input, 32)\n",
        "        self.fc2 = nn.Linear(32, 2)\n",
        "\n",
        "        self.name = name        \n",
        "\n",
        "    def forward(self, img):\n",
        "        x = self.pool(F.relu(self.conv1(img)))\n",
        "        x = self.pool(F.relu(self.conv2(x)))\n",
        "        x = self.pool(F.relu(self.conv3(x)))\n",
        "        x = x.view(-1, self.FC_input)\n",
        "        x = F.relu(self.fc1(x))\n",
        "        x = self.fc2(x)\n",
        "        return x"
      ],
      "execution_count": 34,
      "outputs": []
    },
    {
      "cell_type": "code",
      "metadata": {
        "id": "2pNUdqPp9Xrz"
      },
      "source": [
        "def get_model_path(name, batch_size, lr, epoch):\n",
        "    path = \"name_{}_size{}_lr{}_epoch{}\".format(name, batch_size, lr, epoch)\n",
        "    return path\n",
        "def train(model, train_loader, val_loader, batch_size, num_epochs, learn_rate):\n",
        "    torch.manual_seed(10)\n",
        "\n",
        "    criterion = nn.CrossEntropyLoss()\n",
        "    optimizer = optim.Adam(model.parameters(), lr=learn_rate)\n",
        "\n",
        "  \n",
        "    train_acc = np.zeros(num_epochs)\n",
        "    val_acc = np.zeros(num_epochs)\n",
        "\n",
        "    # training\n",
        "    print (\"Training Started...\")\n",
        "    n = 0\n",
        "    for epoch in range(num_epochs):\n",
        "        total_train_loss = 0.0\n",
        "        total_train_err = 0.0\n",
        "        total_images = 0\n",
        "        for imgs, labels in iter(train_loader):\n",
        "            \n",
        "            if use_cuda and torch.cuda.is_available():\n",
        "              imgs = imgs.cuda()\n",
        "              labels = labels.cuda()\n",
        "\n",
        "            out = model(imgs)             # forward pass\n",
        "            loss = criterion(out, labels) # compute the total loss\n",
        "            loss.backward()               # backward pass (compute parameter updates)\n",
        "            optimizer.step()              # make the updates for each parameter\n",
        "            optimizer.zero_grad()         # a clean up step for PyTorch\n",
        "            n += 1          \n",
        "        \n",
        "        # track accuracy\n",
        "        train_acc[epoch] = get_accuracy(model, train_loader)\n",
        "        val_acc[epoch] = get_accuracy(model, val_loader)\n",
        "\n",
        "        print((\"Epoch {}: Train acc: {} |\" + \"Validation acc: {}\").format(epoch, train_acc[epoch], val_acc[epoch]))\n",
        "\n",
        "        model_path = get_model_path(model.name, batch_size, learn_rate, epoch)\n",
        "        torch.save(model.state_dict(), model_path)\n",
        "            \n",
        "    epochs = np.arange(1, num_epochs + 1)\n",
        "   \n",
        "    \n",
        "    return train_acc, val_acc, epochs\n",
        "def get_accuracy(model, data_loader):\n",
        "    correct = 0\n",
        "    total = 0\n",
        "    for imgs, labels in data_loader:\n",
        "        \n",
        "        if use_cuda and torch.cuda.is_available():\n",
        "          imgs = imgs.cuda()\n",
        "          labels = labels.cuda()\n",
        "\n",
        "        output = model(imgs)\n",
        "        #select index with maximum prediction score\n",
        "        pred = output.max(1, keepdim=True)[1]\n",
        "        correct += pred.eq(labels.view_as(pred)).sum().item()\n",
        "        total += imgs.shape[0]\n",
        "    return correct / total"
      ],
      "execution_count": 36,
      "outputs": []
    },
    {
      "cell_type": "code",
      "metadata": {
        "colab": {
          "base_uri": "https://localhost:8080/",
          "height": 930
        },
        "id": "hdhFlIBO9lOQ",
        "outputId": "d189fc8c-2dae-456c-c684-30f470517fc0"
      },
      "source": [
        "CNN = CNNClassifier()\n",
        "use_cuda = True\n",
        "if use_cuda and torch.cuda.is_available():\n",
        "  CNN.cuda()\n",
        "\n",
        "train_acc, val_acc, epochs = train(CNN, train_loader, val_loader, batch_size= 128, num_epochs= 20, learn_rate= 0.0015)\n",
        "\n",
        "plt.plot(epochs, train_acc)\n",
        "plt.title(\"Training Curve (Default Parameters)\")\n",
        "plt.xlabel(\"Epochs\")\n",
        "plt.ylabel(\"Training Accuracy\")\n",
        "plt.show()\n",
        "\n",
        "plt.plot(epochs, val_acc)\n",
        "plt.title(\"Validation Curve (Default Parameters)\")\n",
        "plt.xlabel(\"Epochs\")\n",
        "plt.ylabel(\"Validation Accuracy\")\n",
        "plt.show()"
      ],
      "execution_count": 37,
      "outputs": [
        {
          "output_type": "stream",
          "text": [
            "Training Started...\n",
            "Epoch 0: Train acc: 0.9022887323943662 |Validation acc: 0.9047619047619048\n",
            "Epoch 1: Train acc: 0.9330985915492958 |Validation acc: 0.9126984126984127\n",
            "Epoch 2: Train acc: 0.7658450704225352 |Validation acc: 0.708994708994709\n",
            "Epoch 3: Train acc: 0.9586267605633803 |Validation acc: 0.9365079365079365\n",
            "Epoch 4: Train acc: 0.9859154929577465 |Validation acc: 0.9576719576719577\n",
            "Epoch 5: Train acc: 0.9911971830985915 |Validation acc: 0.9470899470899471\n",
            "Epoch 6: Train acc: 0.9955985915492958 |Validation acc: 0.9576719576719577\n",
            "Epoch 7: Train acc: 0.988556338028169 |Validation acc: 0.9603174603174603\n",
            "Epoch 8: Train acc: 0.9727112676056338 |Validation acc: 0.9285714285714286\n",
            "Epoch 9: Train acc: 0.9982394366197183 |Validation acc: 0.9629629629629629\n",
            "Epoch 10: Train acc: 1.0 |Validation acc: 0.9656084656084656\n",
            "Epoch 11: Train acc: 1.0 |Validation acc: 0.9629629629629629\n",
            "Epoch 12: Train acc: 1.0 |Validation acc: 0.9603174603174603\n",
            "Epoch 13: Train acc: 0.9991197183098591 |Validation acc: 0.9629629629629629\n",
            "Epoch 14: Train acc: 1.0 |Validation acc: 0.9629629629629629\n",
            "Epoch 15: Train acc: 1.0 |Validation acc: 0.9603174603174603\n",
            "Epoch 16: Train acc: 1.0 |Validation acc: 0.9603174603174603\n",
            "Epoch 17: Train acc: 1.0 |Validation acc: 0.9603174603174603\n",
            "Epoch 18: Train acc: 1.0 |Validation acc: 0.9576719576719577\n",
            "Epoch 19: Train acc: 1.0 |Validation acc: 0.9576719576719577\n"
          ],
          "name": "stdout"
        },
        {
          "output_type": "display_data",
          "data": {
            "image/png": "[encoded data removed]",
            "text/plain": [
              "<Figure size 432x288 with 1 Axes>"
            ]
          },
          "metadata": {
            "tags": [],
            "needs_background": "light"
          }
        },
        {
          "output_type": "display_data",
          "data": {
            "image/png": "[encoded data removed]",
            "text/plain": [
              "<Figure size 432x288 with 1 Axes>"
            ]
          },
          "metadata": {
            "tags": [],
            "needs_background": "light"
          }
        }
      ]
    },
    {
      "cell_type": "code",
      "metadata": {
        "id": "f4TnJlubEHDz",
        "colab": {
          "base_uri": "https://localhost:8080/"
        },
        "outputId": "a373c29b-4f40-4381-cd08-e721256ef812"
      },
      "source": [
        "model_path = get_model_path(CNN.name, batch_size=128, lr=0.0015, epoch=7-1)\n",
        "state = torch.load(model_path)\n",
        "CNN.load_state_dict(state)\n",
        "get_accuracy(CNN, test_loader)"
      ],
      "execution_count": 38,
      "outputs": [
        {
          "output_type": "execute_result",
          "data": {
            "text/plain": [
              "0.955026455026455"
            ]
          },
          "metadata": {
            "tags": []
          },
          "execution_count": 38
        }
      ]
    },
    {
      "cell_type": "code",
      "metadata": {
        "id": "JnDjb6efOGr-"
      },
      "source": [
        "transform_2 = transforms.Compose([transforms.Resize((224,224)),\n",
        "                                transforms.Grayscale(),\n",
        "                                transforms.ToTensor()])\n",
        "data_folder2 = torchvision.datasets.ImageFolder(main_path + 'img', transform = transform_2)\n",
        "relevant_indices = get_relevant_indices(data_folder2, classes, classes)\n",
        "np.random.seed(1000)\n",
        "np.random.shuffle(relevant_indices)\n",
        "test_ind_2= relevant_indices[len(relevant_indices)-1]\n",
        "\n",
        "test_sampler_2 = SubsetRandomSampler(test_ind_2)\n",
        "\n",
        "test_loader_2 = torch.utils.data.DataLoader(data_folder2, batch_size=20)"
      ],
      "execution_count": 39,
      "outputs": []
    },
    {
      "cell_type": "code",
      "metadata": {
        "id": "_npQE3IaOXTd",
        "colab": {
          "base_uri": "https://localhost:8080/"
        },
        "outputId": "9531446f-8da9-45f0-b9af-796421d519a9"
      },
      "source": [
        "get_accuracy(CNN, test_loader_2)"
      ],
      "execution_count": 40,
      "outputs": [
        {
          "output_type": "execute_result",
          "data": {
            "text/plain": [
              "0.75"
            ]
          },
          "metadata": {
            "tags": []
          },
          "execution_count": 40
        }
      ]
    }
  ]
}